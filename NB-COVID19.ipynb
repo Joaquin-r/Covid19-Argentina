{
 "cells": [
  {
   "cell_type": "markdown",
   "metadata": {},
   "source": [
    "# ANÁLISIS COVID19 EN ARGENTINA."
   ]
  },
  {
   "cell_type": "markdown",
   "metadata": {},
   "source": [
    "* Comienzo importando las librerias.\n",
    "   * Pandas, matplotlib y seaborn.\n",
    "* Luego cargo las bases de datos de donde tomaré la información.\n",
    "  * df_covid = contagiados, testeados y fallecidos desde que se detecto el primer caso en Argentina (Detallado por provincia).\n",
    "  * df_censo = cantidad de habitantes por provincia, según el censo realizado en el año 2010."
   ]
  },
  {
   "cell_type": "markdown",
   "metadata": {},
   "source": [
    "# FUENTE: "
   ]
  },
  {
   "cell_type": "markdown",
   "metadata": {},
   "source": [
    "  * df_covid https://docs.google.com/spreadsheets/d/16-bnsDdmmgtSxdWbVMboIHo5FRuz76DBxsz_BbsEVWA/export?format=csv&id=16-bnsDdmmgtSxdWbVMboIHo5FRuz76DBxsz_BbsEVWA&gid=0\n",
    "  * df_censo https://es.wikipedia.org/wiki/Censo_argentino_de_2010"
   ]
  },
  {
   "cell_type": "code",
   "execution_count": 1,
   "metadata": {},
   "outputs": [],
   "source": [
    "import pandas as pd\n",
    "import matplotlib.pyplot as plt\n",
    "import seaborn as sns"
   ]
  },
  {
   "cell_type": "code",
   "execution_count": 2,
   "metadata": {},
   "outputs": [],
   "source": [
    "pd.options.display.max_rows=None\n",
    "pd.options.display.max_columns=None"
   ]
  },
  {
   "cell_type": "code",
   "execution_count": 3,
   "metadata": {},
   "outputs": [],
   "source": [
    "url = 'https://docs.google.com/spreadsheets/d/16-bnsDdmmgtSxdWbVMboIHo5FRuz76DBxsz_BbsEVWA/export?format=csv&id=16-bnsDdmmgtSxdWbVMboIHo5FRuz76DBxsz_BbsEVWA&gid=0'\n",
    "df_covid = pd.read_csv(url)"
   ]
  },
  {
   "cell_type": "code",
   "execution_count": 4,
   "metadata": {},
   "outputs": [],
   "source": [
    "tables = pd.read_html('https://es.wikipedia.org/wiki/Censo_argentino_de_2010',thousands='.', decimal=',')"
   ]
  },
  {
   "cell_type": "code",
   "execution_count": 5,
   "metadata": {},
   "outputs": [],
   "source": [
    "df_censo = tables[0]"
   ]
  },
  {
   "cell_type": "code",
   "execution_count": 6,
   "metadata": {},
   "outputs": [
    {
     "data": {
      "text/html": [
       "<div>\n",
       "<style scoped>\n",
       "    .dataframe tbody tr th:only-of-type {\n",
       "        vertical-align: middle;\n",
       "    }\n",
       "\n",
       "    .dataframe tbody tr th {\n",
       "        vertical-align: top;\n",
       "    }\n",
       "\n",
       "    .dataframe thead th {\n",
       "        text-align: right;\n",
       "    }\n",
       "</style>\n",
       "<table border=\"1\" class=\"dataframe\">\n",
       "  <thead>\n",
       "    <tr style=\"text-align: right;\">\n",
       "      <th></th>\n",
       "      <th>Provincia</th>\n",
       "      <th>PoblaciónCenso 2001</th>\n",
       "      <th>PoblaciónCenso 2010</th>\n",
       "      <th>Crec. intercensal %(2001 - 2010)</th>\n",
       "      <th>Tasa de crecimiento medio anual por mil (2001 - 2010)[9]​</th>\n",
       "    </tr>\n",
       "  </thead>\n",
       "  <tbody>\n",
       "    <tr>\n",
       "      <td>0</td>\n",
       "      <td>Provincia de Buenos Aires</td>\n",
       "      <td>13.827.203 [10]​</td>\n",
       "      <td>15.625.083[11]​</td>\n",
       "      <td>13.0</td>\n",
       "      <td>13.8</td>\n",
       "    </tr>\n",
       "    <tr>\n",
       "      <td>1</td>\n",
       "      <td>Córdoba</td>\n",
       "      <td>3066801</td>\n",
       "      <td>3308876</td>\n",
       "      <td>7.9</td>\n",
       "      <td>8.5</td>\n",
       "    </tr>\n",
       "    <tr>\n",
       "      <td>2</td>\n",
       "      <td>Santa Fe</td>\n",
       "      <td>3000701</td>\n",
       "      <td>3194537</td>\n",
       "      <td>6.5</td>\n",
       "      <td>7.0</td>\n",
       "    </tr>\n",
       "    <tr>\n",
       "      <td>3</td>\n",
       "      <td>Ciudad Autónoma de Buenos Aires</td>\n",
       "      <td>2776138</td>\n",
       "      <td>2890151</td>\n",
       "      <td>4.1</td>\n",
       "      <td>4.5</td>\n",
       "    </tr>\n",
       "    <tr>\n",
       "      <td>4</td>\n",
       "      <td>Mendoza</td>\n",
       "      <td>1579651</td>\n",
       "      <td>1738929</td>\n",
       "      <td>10.1</td>\n",
       "      <td>10.8</td>\n",
       "    </tr>\n",
       "  </tbody>\n",
       "</table>\n",
       "</div>"
      ],
      "text/plain": [
       "                         Provincia PoblaciónCenso 2001 PoblaciónCenso 2010  \\\n",
       "0        Provincia de Buenos Aires    13.827.203 [10]​     15.625.083[11]​   \n",
       "1                          Córdoba             3066801             3308876   \n",
       "2                         Santa Fe             3000701             3194537   \n",
       "3  Ciudad Autónoma de Buenos Aires             2776138             2890151   \n",
       "4                          Mendoza             1579651             1738929   \n",
       "\n",
       "   Crec. intercensal %(2001 - 2010)  \\\n",
       "0                              13.0   \n",
       "1                               7.9   \n",
       "2                               6.5   \n",
       "3                               4.1   \n",
       "4                              10.1   \n",
       "\n",
       "   Tasa de crecimiento medio anual por mil (2001 - 2010)[9]​  \n",
       "0                                               13.8          \n",
       "1                                                8.5          \n",
       "2                                                7.0          \n",
       "3                                                4.5          \n",
       "4                                               10.8          "
      ]
     },
     "execution_count": 6,
     "metadata": {},
     "output_type": "execute_result"
    }
   ],
   "source": [
    "df_censo.head()"
   ]
  },
  {
   "cell_type": "markdown",
   "metadata": {},
   "source": [
    "# df_censo"
   ]
  },
  {
   "cell_type": "markdown",
   "metadata": {},
   "source": [
    "* Una vez realizada la carga, muestro el dataframe. Así verifico que la carga se haya realizado correctamente\n",
    "* Me voy a concentrar en las columnas: provincia y PoblaciónCenso 2010.\n",
    "* Se puede ver que en la primera fila, columna: PoblaciónCenso 2010 se encuentra un tipo de dato que no es entero ni flotante, el cual me va a imposibilitar trabajar con esa fila de igual forma que con las demás.\n",
    "* Por lo tanto, voy concentrarme en esa posición de la tabla, analizarla, quitar los caracteres que no corresponden al número real y convertirlo a tipo entero."
   ]
  },
  {
   "cell_type": "code",
   "execution_count": 7,
   "metadata": {},
   "outputs": [
    {
     "data": {
      "text/plain": [
       "'15.625.083[11]\\u200b'"
      ]
     },
     "execution_count": 7,
     "metadata": {},
     "output_type": "execute_result"
    }
   ],
   "source": [
    "df_censo.at[0,'PoblaciónCenso 2010']"
   ]
  },
  {
   "cell_type": "code",
   "execution_count": 8,
   "metadata": {},
   "outputs": [
    {
     "data": {
      "text/plain": [
       "'15.625.083'"
      ]
     },
     "execution_count": 8,
     "metadata": {},
     "output_type": "execute_result"
    }
   ],
   "source": [
    "df_censo.at[0,'PoblaciónCenso 2010'][0:10]"
   ]
  },
  {
   "cell_type": "code",
   "execution_count": 9,
   "metadata": {},
   "outputs": [
    {
     "data": {
      "text/plain": [
       "'15625083'"
      ]
     },
     "execution_count": 9,
     "metadata": {},
     "output_type": "execute_result"
    }
   ],
   "source": [
    "df_censo.at[0,'PoblaciónCenso 2010'][0:10].replace('.','')"
   ]
  },
  {
   "cell_type": "code",
   "execution_count": 10,
   "metadata": {},
   "outputs": [],
   "source": [
    "df_censo.at[0,'PoblaciónCenso 2010']=df_censo.at[0,'PoblaciónCenso 2010'][0:10].replace('.','')"
   ]
  },
  {
   "cell_type": "code",
   "execution_count": 11,
   "metadata": {},
   "outputs": [
    {
     "data": {
      "text/plain": [
       "'15625083'"
      ]
     },
     "execution_count": 11,
     "metadata": {},
     "output_type": "execute_result"
    }
   ],
   "source": [
    "df_censo.at[0,'PoblaciónCenso 2010']"
   ]
  },
  {
   "cell_type": "code",
   "execution_count": 12,
   "metadata": {},
   "outputs": [],
   "source": [
    "df_censo['PoblaciónCenso 2010'] = df_censo['PoblaciónCenso 2010'].astype('int')"
   ]
  },
  {
   "cell_type": "code",
   "execution_count": 13,
   "metadata": {},
   "outputs": [],
   "source": [
    "df_censo = df_censo[['Provincia','PoblaciónCenso 2010']]"
   ]
  },
  {
   "cell_type": "code",
   "execution_count": 14,
   "metadata": {},
   "outputs": [],
   "source": [
    "df_censo = df_censo.rename(columns={'Provincia':'provincia','PoblaciónCenso 2010':'poblaciónCenso 2010'})"
   ]
  },
  {
   "cell_type": "markdown",
   "metadata": {},
   "source": [
    "# df_covid"
   ]
  },
  {
   "cell_type": "markdown",
   "metadata": {},
   "source": [
    "* Muestro el dataframe y verifico que la carga se haya realizado correctamente.\n",
    "* Elimino las columnas que no aportan datos al analisis que voy a realizar. A algunas de las columnas que me sirven les cambio el nombre para identificarlas mejor.\n",
    "* Posteriormente reemplazo los valores nulos de la columna: total_recuperados por el valor anterior más cercano que no sea nulo.\n",
    "* Vuelvo a mostrar el dataframe para corroborar que los cambios se hayan realizado correctamente."
   ]
  },
  {
   "cell_type": "code",
   "execution_count": 15,
   "metadata": {},
   "outputs": [
    {
     "data": {
      "text/html": [
       "<div>\n",
       "<style scoped>\n",
       "    .dataframe tbody tr th:only-of-type {\n",
       "        vertical-align: middle;\n",
       "    }\n",
       "\n",
       "    .dataframe tbody tr th {\n",
       "        vertical-align: top;\n",
       "    }\n",
       "\n",
       "    .dataframe thead th {\n",
       "        text-align: right;\n",
       "    }\n",
       "</style>\n",
       "<table border=\"1\" class=\"dataframe\">\n",
       "  <thead>\n",
       "    <tr style=\"text-align: right;\">\n",
       "      <th></th>\n",
       "      <th>fecha</th>\n",
       "      <th>dia_inicio</th>\n",
       "      <th>dia_cuarentena_dnu260</th>\n",
       "      <th>osm_admin_level_2</th>\n",
       "      <th>osm_admin_level_4</th>\n",
       "      <th>osm_admin_level_8</th>\n",
       "      <th>tot_casosconf</th>\n",
       "      <th>nue_casosconf_diff</th>\n",
       "      <th>tot_fallecidos</th>\n",
       "      <th>nue_fallecidos_diff</th>\n",
       "      <th>tot_recuperados</th>\n",
       "      <th>tot_terapia</th>\n",
       "      <th>test_RT-PCR_negativos</th>\n",
       "      <th>test_RT-PCR_total</th>\n",
       "      <th>transmision_tipo</th>\n",
       "      <th>informe_tipo</th>\n",
       "      <th>informe_link</th>\n",
       "      <th>observacion</th>\n",
       "      <th>covid19argentina_admin_level_4</th>\n",
       "    </tr>\n",
       "  </thead>\n",
       "  <tbody>\n",
       "    <tr>\n",
       "      <td>0</td>\n",
       "      <td>2/03/2020</td>\n",
       "      <td>1</td>\n",
       "      <td>NaN</td>\n",
       "      <td>Argentina</td>\n",
       "      <td>CABA</td>\n",
       "      <td>NaN</td>\n",
       "      <td>1</td>\n",
       "      <td>1.0</td>\n",
       "      <td>0</td>\n",
       "      <td>0</td>\n",
       "      <td>NaN</td>\n",
       "      <td>NaN</td>\n",
       "      <td>NaN</td>\n",
       "      <td>NaN</td>\n",
       "      <td>importado</td>\n",
       "      <td>NaN</td>\n",
       "      <td>https://www.infobae.com/coronavirus/2020/03/03...</td>\n",
       "      <td>no hay informe</td>\n",
       "      <td>capital-federal</td>\n",
       "    </tr>\n",
       "    <tr>\n",
       "      <td>1</td>\n",
       "      <td>3/03/2020</td>\n",
       "      <td>2</td>\n",
       "      <td>NaN</td>\n",
       "      <td>Argentina</td>\n",
       "      <td>Indeterminado</td>\n",
       "      <td>NaN</td>\n",
       "      <td>1</td>\n",
       "      <td>0.0</td>\n",
       "      <td>0</td>\n",
       "      <td>0</td>\n",
       "      <td>NaN</td>\n",
       "      <td>NaN</td>\n",
       "      <td>NaN</td>\n",
       "      <td>NaN</td>\n",
       "      <td>importado</td>\n",
       "      <td>NaN</td>\n",
       "      <td>NaN</td>\n",
       "      <td>no hay informe</td>\n",
       "      <td>no-data</td>\n",
       "    </tr>\n",
       "    <tr>\n",
       "      <td>2</td>\n",
       "      <td>4/03/2020</td>\n",
       "      <td>3</td>\n",
       "      <td>NaN</td>\n",
       "      <td>Argentina</td>\n",
       "      <td>Indeterminado</td>\n",
       "      <td>NaN</td>\n",
       "      <td>1</td>\n",
       "      <td>0.0</td>\n",
       "      <td>0</td>\n",
       "      <td>0</td>\n",
       "      <td>NaN</td>\n",
       "      <td>NaN</td>\n",
       "      <td>NaN</td>\n",
       "      <td>NaN</td>\n",
       "      <td>importado</td>\n",
       "      <td>NaN</td>\n",
       "      <td>NaN</td>\n",
       "      <td>no hay informe</td>\n",
       "      <td>no-data</td>\n",
       "    </tr>\n",
       "    <tr>\n",
       "      <td>3</td>\n",
       "      <td>5/03/2020</td>\n",
       "      <td>4</td>\n",
       "      <td>NaN</td>\n",
       "      <td>Argentina</td>\n",
       "      <td>Buenos Aires</td>\n",
       "      <td>NaN</td>\n",
       "      <td>2</td>\n",
       "      <td>1.0</td>\n",
       "      <td>2</td>\n",
       "      <td>2</td>\n",
       "      <td>NaN</td>\n",
       "      <td>NaN</td>\n",
       "      <td>NaN</td>\n",
       "      <td>NaN</td>\n",
       "      <td>importado</td>\n",
       "      <td>informe nacional</td>\n",
       "      <td>https://www.argentina.gob.ar/sites/default/fil...</td>\n",
       "      <td>NaN</td>\n",
       "      <td>buenos-aires</td>\n",
       "    </tr>\n",
       "    <tr>\n",
       "      <td>4</td>\n",
       "      <td>6/03/2020</td>\n",
       "      <td>5</td>\n",
       "      <td>NaN</td>\n",
       "      <td>Argentina</td>\n",
       "      <td>Indeterminado</td>\n",
       "      <td>NaN</td>\n",
       "      <td>2</td>\n",
       "      <td>0.0</td>\n",
       "      <td>2</td>\n",
       "      <td>0</td>\n",
       "      <td>NaN</td>\n",
       "      <td>NaN</td>\n",
       "      <td>NaN</td>\n",
       "      <td>NaN</td>\n",
       "      <td>importado</td>\n",
       "      <td>informe nacional</td>\n",
       "      <td>https://www.argentina.gob.ar/sites/default/fil...</td>\n",
       "      <td>NaN</td>\n",
       "      <td>no-data</td>\n",
       "    </tr>\n",
       "  </tbody>\n",
       "</table>\n",
       "</div>"
      ],
      "text/plain": [
       "       fecha  dia_inicio  dia_cuarentena_dnu260 osm_admin_level_2  \\\n",
       "0  2/03/2020           1                    NaN         Argentina   \n",
       "1  3/03/2020           2                    NaN         Argentina   \n",
       "2  4/03/2020           3                    NaN         Argentina   \n",
       "3  5/03/2020           4                    NaN         Argentina   \n",
       "4  6/03/2020           5                    NaN         Argentina   \n",
       "\n",
       "  osm_admin_level_4 osm_admin_level_8  tot_casosconf  nue_casosconf_diff  \\\n",
       "0              CABA               NaN              1                 1.0   \n",
       "1     Indeterminado               NaN              1                 0.0   \n",
       "2     Indeterminado               NaN              1                 0.0   \n",
       "3      Buenos Aires               NaN              2                 1.0   \n",
       "4     Indeterminado               NaN              2                 0.0   \n",
       "\n",
       "   tot_fallecidos  nue_fallecidos_diff  tot_recuperados  tot_terapia  \\\n",
       "0               0                    0              NaN          NaN   \n",
       "1               0                    0              NaN          NaN   \n",
       "2               0                    0              NaN          NaN   \n",
       "3               2                    2              NaN          NaN   \n",
       "4               2                    0              NaN          NaN   \n",
       "\n",
       "   test_RT-PCR_negativos  test_RT-PCR_total transmision_tipo  \\\n",
       "0                    NaN                NaN        importado   \n",
       "1                    NaN                NaN        importado   \n",
       "2                    NaN                NaN        importado   \n",
       "3                    NaN                NaN        importado   \n",
       "4                    NaN                NaN        importado   \n",
       "\n",
       "       informe_tipo                                       informe_link  \\\n",
       "0               NaN  https://www.infobae.com/coronavirus/2020/03/03...   \n",
       "1               NaN                                                NaN   \n",
       "2               NaN                                                NaN   \n",
       "3  informe nacional  https://www.argentina.gob.ar/sites/default/fil...   \n",
       "4  informe nacional  https://www.argentina.gob.ar/sites/default/fil...   \n",
       "\n",
       "      observacion covid19argentina_admin_level_4  \n",
       "0  no hay informe                capital-federal  \n",
       "1  no hay informe                        no-data  \n",
       "2  no hay informe                        no-data  \n",
       "3             NaN                   buenos-aires  \n",
       "4             NaN                        no-data  "
      ]
     },
     "execution_count": 15,
     "metadata": {},
     "output_type": "execute_result"
    }
   ],
   "source": [
    "df_covid.head()"
   ]
  },
  {
   "cell_type": "code",
   "execution_count": 16,
   "metadata": {},
   "outputs": [],
   "source": [
    "df_covid = df_covid.iloc[:,:14]"
   ]
  },
  {
   "cell_type": "code",
   "execution_count": 17,
   "metadata": {},
   "outputs": [],
   "source": [
    "df_covid = df_covid.drop(df_covid.columns[[5]],axis=\"columns\")"
   ]
  },
  {
   "cell_type": "code",
   "execution_count": 18,
   "metadata": {},
   "outputs": [],
   "source": [
    "df_covid = df_covid.rename(columns={\"osm_admin_level_2\":\"pais\",\"osm_admin_level_4\":\"provincia\",\"tot_casosconf\":\"total_confirmados\",\"nue_casosconf_diff\":\"nuevos_confirmados\",\"tot_fallecidos\":\"total_fallecidos\",\"nue_fallecidos_diff\":\"nuevos_fallecidos\",\"tot_recuperados\":\"total_recuperados\",\"test_RT-PCR_negativos\":\"total_test_negativos\",\"test_RT-PCR_total\":\"total_test\"})"
   ]
  },
  {
   "cell_type": "code",
   "execution_count": 19,
   "metadata": {},
   "outputs": [],
   "source": [
    "df_covid['total_recuperados'] = df_covid['total_recuperados'].fillna(method='ffill')"
   ]
  },
  {
   "cell_type": "code",
   "execution_count": 20,
   "metadata": {
    "scrolled": false
   },
   "outputs": [
    {
     "data": {
      "text/html": [
       "<div>\n",
       "<style scoped>\n",
       "    .dataframe tbody tr th:only-of-type {\n",
       "        vertical-align: middle;\n",
       "    }\n",
       "\n",
       "    .dataframe tbody tr th {\n",
       "        vertical-align: top;\n",
       "    }\n",
       "\n",
       "    .dataframe thead th {\n",
       "        text-align: right;\n",
       "    }\n",
       "</style>\n",
       "<table border=\"1\" class=\"dataframe\">\n",
       "  <thead>\n",
       "    <tr style=\"text-align: right;\">\n",
       "      <th></th>\n",
       "      <th>fecha</th>\n",
       "      <th>dia_inicio</th>\n",
       "      <th>dia_cuarentena_dnu260</th>\n",
       "      <th>pais</th>\n",
       "      <th>provincia</th>\n",
       "      <th>total_confirmados</th>\n",
       "      <th>nuevos_confirmados</th>\n",
       "      <th>total_fallecidos</th>\n",
       "      <th>nuevos_fallecidos</th>\n",
       "      <th>total_recuperados</th>\n",
       "      <th>tot_terapia</th>\n",
       "      <th>total_test_negativos</th>\n",
       "      <th>total_test</th>\n",
       "    </tr>\n",
       "  </thead>\n",
       "  <tbody>\n",
       "    <tr>\n",
       "      <td>0</td>\n",
       "      <td>2/03/2020</td>\n",
       "      <td>1</td>\n",
       "      <td>NaN</td>\n",
       "      <td>Argentina</td>\n",
       "      <td>CABA</td>\n",
       "      <td>1</td>\n",
       "      <td>1.0</td>\n",
       "      <td>0</td>\n",
       "      <td>0</td>\n",
       "      <td>NaN</td>\n",
       "      <td>NaN</td>\n",
       "      <td>NaN</td>\n",
       "      <td>NaN</td>\n",
       "    </tr>\n",
       "    <tr>\n",
       "      <td>1</td>\n",
       "      <td>3/03/2020</td>\n",
       "      <td>2</td>\n",
       "      <td>NaN</td>\n",
       "      <td>Argentina</td>\n",
       "      <td>Indeterminado</td>\n",
       "      <td>1</td>\n",
       "      <td>0.0</td>\n",
       "      <td>0</td>\n",
       "      <td>0</td>\n",
       "      <td>NaN</td>\n",
       "      <td>NaN</td>\n",
       "      <td>NaN</td>\n",
       "      <td>NaN</td>\n",
       "    </tr>\n",
       "    <tr>\n",
       "      <td>2</td>\n",
       "      <td>4/03/2020</td>\n",
       "      <td>3</td>\n",
       "      <td>NaN</td>\n",
       "      <td>Argentina</td>\n",
       "      <td>Indeterminado</td>\n",
       "      <td>1</td>\n",
       "      <td>0.0</td>\n",
       "      <td>0</td>\n",
       "      <td>0</td>\n",
       "      <td>NaN</td>\n",
       "      <td>NaN</td>\n",
       "      <td>NaN</td>\n",
       "      <td>NaN</td>\n",
       "    </tr>\n",
       "    <tr>\n",
       "      <td>3</td>\n",
       "      <td>5/03/2020</td>\n",
       "      <td>4</td>\n",
       "      <td>NaN</td>\n",
       "      <td>Argentina</td>\n",
       "      <td>Buenos Aires</td>\n",
       "      <td>2</td>\n",
       "      <td>1.0</td>\n",
       "      <td>2</td>\n",
       "      <td>2</td>\n",
       "      <td>NaN</td>\n",
       "      <td>NaN</td>\n",
       "      <td>NaN</td>\n",
       "      <td>NaN</td>\n",
       "    </tr>\n",
       "    <tr>\n",
       "      <td>4</td>\n",
       "      <td>6/03/2020</td>\n",
       "      <td>5</td>\n",
       "      <td>NaN</td>\n",
       "      <td>Argentina</td>\n",
       "      <td>Indeterminado</td>\n",
       "      <td>2</td>\n",
       "      <td>0.0</td>\n",
       "      <td>2</td>\n",
       "      <td>0</td>\n",
       "      <td>NaN</td>\n",
       "      <td>NaN</td>\n",
       "      <td>NaN</td>\n",
       "      <td>NaN</td>\n",
       "    </tr>\n",
       "  </tbody>\n",
       "</table>\n",
       "</div>"
      ],
      "text/plain": [
       "       fecha  dia_inicio  dia_cuarentena_dnu260       pais      provincia  \\\n",
       "0  2/03/2020           1                    NaN  Argentina           CABA   \n",
       "1  3/03/2020           2                    NaN  Argentina  Indeterminado   \n",
       "2  4/03/2020           3                    NaN  Argentina  Indeterminado   \n",
       "3  5/03/2020           4                    NaN  Argentina   Buenos Aires   \n",
       "4  6/03/2020           5                    NaN  Argentina  Indeterminado   \n",
       "\n",
       "   total_confirmados  nuevos_confirmados  total_fallecidos  nuevos_fallecidos  \\\n",
       "0                  1                 1.0                 0                  0   \n",
       "1                  1                 0.0                 0                  0   \n",
       "2                  1                 0.0                 0                  0   \n",
       "3                  2                 1.0                 2                  2   \n",
       "4                  2                 0.0                 2                  0   \n",
       "\n",
       "   total_recuperados  tot_terapia  total_test_negativos  total_test  \n",
       "0                NaN          NaN                   NaN         NaN  \n",
       "1                NaN          NaN                   NaN         NaN  \n",
       "2                NaN          NaN                   NaN         NaN  \n",
       "3                NaN          NaN                   NaN         NaN  \n",
       "4                NaN          NaN                   NaN         NaN  "
      ]
     },
     "execution_count": 20,
     "metadata": {},
     "output_type": "execute_result"
    }
   ],
   "source": [
    "df_covid.head()"
   ]
  },
  {
   "cell_type": "code",
   "execution_count": 21,
   "metadata": {},
   "outputs": [],
   "source": [
    "plt.rcParams['figure.figsize']=(15,5)"
   ]
  },
  {
   "cell_type": "markdown",
   "metadata": {},
   "source": [
    "# Casos confirmados y fallecidos por día"
   ]
  },
  {
   "cell_type": "markdown",
   "metadata": {},
   "source": [
    "* Creo un dataframe que llamo suma, donde voy a agrupar y sumar los casos confirmados por día y los fallecidos por día.\n",
    "* Muestro las primeras 5 filas para verificar que se haya creado correctamente.\n",
    "* Utilizando la libreria matplotlib realizo un gráfico donde se observa en el eje X los dias, desde el dia 1 hasta el dia actual y en el eje Y las cantidades. En el caso de la linea azul se ve la cantidad de casos confirmados diariamente y con la linea roja, la cantidad de fallecidos diariamente.\n",
    "* Se puede ver que, al tener cantidades tan dispares entre de casos confirmados y fallecidos no se llega a distinguir en detalle la cantidad de faccidos por día.\n",
    "* Utilizando nuevamente la libreria matplotlib, se muestran dos graficas para poder apreciar los datos en detalle. En la primera se muestra la cantidad de casos confirmados por dia, y en la segunda, la cantidad de fallecidos por día."
   ]
  },
  {
   "cell_type": "code",
   "execution_count": 22,
   "metadata": {},
   "outputs": [],
   "source": [
    "suma = df_covid.groupby([\"dia_inicio\"])['nuevos_fallecidos','nuevos_confirmados'].sum().reset_index()"
   ]
  },
  {
   "cell_type": "code",
   "execution_count": 23,
   "metadata": {},
   "outputs": [
    {
     "data": {
      "text/html": [
       "<div>\n",
       "<style scoped>\n",
       "    .dataframe tbody tr th:only-of-type {\n",
       "        vertical-align: middle;\n",
       "    }\n",
       "\n",
       "    .dataframe tbody tr th {\n",
       "        vertical-align: top;\n",
       "    }\n",
       "\n",
       "    .dataframe thead th {\n",
       "        text-align: right;\n",
       "    }\n",
       "</style>\n",
       "<table border=\"1\" class=\"dataframe\">\n",
       "  <thead>\n",
       "    <tr style=\"text-align: right;\">\n",
       "      <th></th>\n",
       "      <th>dia_inicio</th>\n",
       "      <th>nuevos_fallecidos</th>\n",
       "      <th>nuevos_confirmados</th>\n",
       "    </tr>\n",
       "  </thead>\n",
       "  <tbody>\n",
       "    <tr>\n",
       "      <td>0</td>\n",
       "      <td>1</td>\n",
       "      <td>0</td>\n",
       "      <td>1.0</td>\n",
       "    </tr>\n",
       "    <tr>\n",
       "      <td>1</td>\n",
       "      <td>2</td>\n",
       "      <td>0</td>\n",
       "      <td>0.0</td>\n",
       "    </tr>\n",
       "    <tr>\n",
       "      <td>2</td>\n",
       "      <td>3</td>\n",
       "      <td>0</td>\n",
       "      <td>0.0</td>\n",
       "    </tr>\n",
       "    <tr>\n",
       "      <td>3</td>\n",
       "      <td>4</td>\n",
       "      <td>2</td>\n",
       "      <td>1.0</td>\n",
       "    </tr>\n",
       "    <tr>\n",
       "      <td>4</td>\n",
       "      <td>5</td>\n",
       "      <td>0</td>\n",
       "      <td>0.0</td>\n",
       "    </tr>\n",
       "  </tbody>\n",
       "</table>\n",
       "</div>"
      ],
      "text/plain": [
       "   dia_inicio  nuevos_fallecidos  nuevos_confirmados\n",
       "0           1                  0                 1.0\n",
       "1           2                  0                 0.0\n",
       "2           3                  0                 0.0\n",
       "3           4                  2                 1.0\n",
       "4           5                  0                 0.0"
      ]
     },
     "execution_count": 23,
     "metadata": {},
     "output_type": "execute_result"
    }
   ],
   "source": [
    "suma.head()"
   ]
  },
  {
   "cell_type": "code",
   "execution_count": 24,
   "metadata": {},
   "outputs": [
    {
     "data": {
      "image/png": "[encoded data removed]",
      "text/plain": [
       "<Figure size 1080x360 with 1 Axes>"
      ]
     },
     "metadata": {
      "needs_background": "light"
     },
     "output_type": "display_data"
    }
   ],
   "source": [
    "plt.plot(suma['nuevos_confirmados'], color=\"blue\", label=\"Infectados por día\",marker=\"o\",markeredgecolor=\"black\")\n",
    "plt.plot(suma['nuevos_fallecidos'], color=\"red\",label=\"Fallecidos por día\",marker=\"o\")\n",
    "plt.grid()\n",
    "plt.legend(loc=2)\n",
    "plt.show()"
   ]
  },
  {
   "cell_type": "code",
   "execution_count": 25,
   "metadata": {
    "scrolled": true
   },
   "outputs": [
    {
     "data": {
      "image/png": "[encoded data removed]",
      "text/plain": [
       "<Figure size 1080x360 with 1 Axes>"
      ]
     },
     "metadata": {
      "needs_background": "light"
     },
     "output_type": "display_data"
    }
   ],
   "source": [
    "plt.plot(suma['nuevos_confirmados'],color='b',label='Confirmados / Día',marker='o')\n",
    "plt.legend()\n",
    "plt.title(\"Cantidad de casos confirmdos por día\")\n",
    "plt.grid()"
   ]
  },
  {
   "cell_type": "code",
   "execution_count": 26,
   "metadata": {},
   "outputs": [
    {
     "data": {
      "text/plain": [
       "Text(0.5, 1.0, 'Cantidad de fallecidos por día')"
      ]
     },
     "execution_count": 26,
     "metadata": {},
     "output_type": "execute_result"
    },
    {
     "data": {
      "image/png": "[encoded data removed]",
      "text/plain": [
       "<Figure size 1080x360 with 1 Axes>"
      ]
     },
     "metadata": {
      "needs_background": "light"
     },
     "output_type": "display_data"
    }
   ],
   "source": [
    "plt.plot(suma['nuevos_fallecidos'],color=\"r\",label='Fallecidos / Día',marker='o')\n",
    "plt.legend(loc=2)\n",
    "plt.grid()\n",
    "plt.title(\"Cantidad de fallecidos por día\")"
   ]
  },
  {
   "cell_type": "markdown",
   "metadata": {},
   "source": [
    "# Casos confirmados y fallecidos por provincia."
   ]
  },
  {
   "cell_type": "markdown",
   "metadata": {},
   "source": [
    "* En las siguientes dos graficas voy a representar los datos por provincia, de la siguiente manera:\n",
    "  * En la primer grafica se puede ver la cantidad de casos confirmados en cada provincia, ordenadas desde la provinca que mas casos tiene a la que menos tiene. Para la representación agrupo y sumo los casos confirmados por provincia y  los ordeno de forma descendente.\n",
    "  * Ya habiendo agrupado,sumado y ordenado los datos uso matplotlib para hacer el grafico de barras, donde se ven en el eje X las provincias y en el eje Y la cantidad de casos. Se representa con barras azules.\n",
    "    * En la gráfica se puede observar claramente como CABA en primer lugar y Buenos Aires en segundo lugar tienen entre las dos la gran mayoria de los casos confirmados\n",
    "  * El segundo grafico representa los fallecidos por cada provincia. Realizo en mismo procedimiento que en el grafico anterior, solo que, en vez de utilizar la columna de casos confirmados, utilizo la columna de fallecidos. Utilizo matplotlib para realizar la grafica de barras, en el eje X se ubican las provincias y en el eje Y la cantidad. Se representa con barras rojas.\n",
    "    * En esta grafica se puede ver que Buenos Aires y CABA tienen la gran mayoría de fallecidos, pero a diferencia de los casos confirmados, Buenos Aires aparece en primer lugar a pesar de tener menos casos confirmados que CABA, la cual aparece en segundo lugar."
   ]
  },
  {
   "cell_type": "code",
   "execution_count": 27,
   "metadata": {},
   "outputs": [
    {
     "data": {
      "image/png": "[encoded data removed]",
      "text/plain": [
       "<Figure size 1080x360 with 1 Axes>"
      ]
     },
     "metadata": {
      "needs_background": "light"
     },
     "output_type": "display_data"
    }
   ],
   "source": [
    "df_covid.groupby(\"provincia\")[\"nuevos_confirmados\"].sum().sort_values(ascending=False).plot(kind=\"bar\",label=\"Confirmados / Provincia\",color=\"blue\")\n",
    "plt.legend()\n",
    "plt.title(\"Cantidad de casos confirmados por provincia\")\n",
    "plt.grid()"
   ]
  },
  {
   "cell_type": "code",
   "execution_count": 28,
   "metadata": {},
   "outputs": [
    {
     "data": {
      "image/png": "[encoded data removed]",
      "text/plain": [
       "<Figure size 1080x360 with 1 Axes>"
      ]
     },
     "metadata": {
      "needs_background": "light"
     },
     "output_type": "display_data"
    }
   ],
   "source": [
    "df_covid.groupby(\"provincia\")[\"nuevos_fallecidos\"].sum().sort_values(ascending=False).plot(kind=\"bar\",label='Fallecidos / Provincia',color=\"r\")\n",
    "plt.legend()\n",
    "plt.title(\"Cantidad de fallecidos por provincia\")\n",
    "plt.grid()"
   ]
  },
  {
   "cell_type": "markdown",
   "metadata": {},
   "source": [
    "# Representación de curvas: Casos confirmados | Recuperados | Fallecidos."
   ]
  },
  {
   "cell_type": "markdown",
   "metadata": {},
   "source": [
    "* En la primera línea corrijo un error de carga en la cantidad de recuperados totales al día 22/05 correspondiente al día 79 desde el primer caso. Reemplazo el valor 2 por 3063 recuperados totales.\n",
    "* En la siguiente linea grafíco las curvas de casos confirmados, recuperados, y fallecidos en 3 gráficas distintas.\n",
    "* Las 3 gráficas tienen como eje X los días, en el eje Y las cantidades totales.\n",
    "* Realizo las gráficas utilizando la libreria matplotlib. "
   ]
  },
  {
   "cell_type": "code",
   "execution_count": 29,
   "metadata": {},
   "outputs": [],
   "source": [
    "df_covid['total_recuperados'] = df_covid['total_recuperados'].replace(2.0, 3063.0)"
   ]
  },
  {
   "cell_type": "code",
   "execution_count": 30,
   "metadata": {},
   "outputs": [
    {
     "data": {
      "image/png": "[encoded data removed]",
      "text/plain": [
       "<Figure size 1080x360 with 3 Axes>"
      ]
     },
     "metadata": {
      "needs_background": "light"
     },
     "output_type": "display_data"
    }
   ],
   "source": [
    "ax1 = plt.subplot(221)           \n",
    "ax1.plot(df_covid['dia_inicio'], df_covid['total_recuperados'], color='green' )\n",
    "ax1.grid()\n",
    "ax1.set_title('Total recuperados')\n",
    "\n",
    "ax2 = plt.subplot(212) \n",
    "ax2.plot(df_covid['dia_inicio'],df_covid['total_fallecidos'], color='red')\n",
    "ax2.grid()\n",
    "ax2.set_title('Total fallecidos')\n",
    "\n",
    "ax3 = plt.subplot(222)           \n",
    "ax3.plot(df_covid['dia_inicio'], df_covid['total_confirmados'], color='blue')\n",
    "ax3.grid()\n",
    "ax3.set_title('Total confirmados')\n",
    "\n",
    "\n",
    "plt.show()\n",
    "\n"
   ]
  },
  {
   "cell_type": "markdown",
   "metadata": {},
   "source": [
    "# Testeos"
   ]
  },
  {
   "cell_type": "markdown",
   "metadata": {},
   "source": [
    "* La siguiente gráfica representa la cantidad de testeados, en color rojo, y la cantidad de test que dieron negativo a COVID19, en color azul.\n",
    "* Se ve como, la linea azul, que representa la cantidad de test que dieron negativo se separa de la linea roja. La distancia que separa a la linea roja de la azul representa, en su gran mayoria, a los test que dieron positivo y en menor medida los test que resultaron fallidos.\n",
    "* Realizo la grafica utilizando la libreria seaborn."
   ]
  },
  {
   "cell_type": "code",
   "execution_count": 31,
   "metadata": {},
   "outputs": [
    {
     "data": {
      "image/png": "[encoded data removed]",
      "text/plain": [
       "<Figure size 1080x360 with 1 Axes>"
      ]
     },
     "metadata": {},
     "output_type": "display_data"
    }
   ],
   "source": [
    "sns.set_style(\"darkgrid\")\n",
    "g=sns.lineplot(y=\"total_test\",x=\"dia_inicio\", data = df_covid ,label=\"Personas testeadas\",color=\"red\")\n",
    "g=sns.lineplot(y=\"total_test_negativos\",x=\"dia_inicio\", data = df_covid ,label=\"Test negativos\",color=\"blue\")"
   ]
  },
  {
   "cell_type": "markdown",
   "metadata": {},
   "source": [
    "# Dataframe para el merge."
   ]
  },
  {
   "cell_type": "markdown",
   "metadata": {},
   "source": [
    "* Para realizar el merge voy a reducir df_covid a 3 columnas, utilizando la columna provincia, calculando fallecidos y confirmados, las cuales voy a necesitar posteriormente, para el cálculo de la tasa de contagios y mortalidad.\n",
    "* Para crear la columna de fallecidos, agrupo por provincia en df_covid y luego sumo la columa nuevos_fallecidos.Para la columna confirmados realizo el mismo procedimiento, a diferencia que en este caso sumo nuevos_confirmados.\n",
    "* La columna provincia resulta del groupby de las columnas anteriores. Reemplazo CABA y Buenos Aires por Ciudad Autonoma de buenos Aires y Provincia de Buenos Aires respectivamente, de tal forma que coincidan los nombres de la provincias con el dataframe df_censo.\n",
    "* Por último elimino la fila que se encuentra en la posición 7 ya que no representa ninguna provincia, sino, datos Indeterminados."
   ]
  },
  {
   "cell_type": "code",
   "execution_count": 32,
   "metadata": {},
   "outputs": [],
   "source": [
    "df_covid = df_covid.groupby(['provincia'])['nuevos_fallecidos','nuevos_confirmados'].sum().reset_index().rename(columns={'nuevos_fallecidos':'fallecidos','nuevos_confirmados':'confirmados'})"
   ]
  },
  {
   "cell_type": "code",
   "execution_count": 33,
   "metadata": {},
   "outputs": [],
   "source": [
    "df_covid=df_covid.replace(['CABA','Buenos Aires'],['Ciudad Autónoma de Buenos Aires','Provincia de Buenos Aires'])"
   ]
  },
  {
   "cell_type": "code",
   "execution_count": 34,
   "metadata": {},
   "outputs": [],
   "source": [
    "df_covid = df_covid.drop(7,axis=0)"
   ]
  },
  {
   "cell_type": "code",
   "execution_count": 35,
   "metadata": {},
   "outputs": [
    {
     "data": {
      "text/html": [
       "<div>\n",
       "<style scoped>\n",
       "    .dataframe tbody tr th:only-of-type {\n",
       "        vertical-align: middle;\n",
       "    }\n",
       "\n",
       "    .dataframe tbody tr th {\n",
       "        vertical-align: top;\n",
       "    }\n",
       "\n",
       "    .dataframe thead th {\n",
       "        text-align: right;\n",
       "    }\n",
       "</style>\n",
       "<table border=\"1\" class=\"dataframe\">\n",
       "  <thead>\n",
       "    <tr style=\"text-align: right;\">\n",
       "      <th></th>\n",
       "      <th>provincia</th>\n",
       "      <th>fallecidos</th>\n",
       "      <th>confirmados</th>\n",
       "    </tr>\n",
       "  </thead>\n",
       "  <tbody>\n",
       "    <tr>\n",
       "      <td>0</td>\n",
       "      <td>Provincia de Buenos Aires</td>\n",
       "      <td>445</td>\n",
       "      <td>19329.0</td>\n",
       "    </tr>\n",
       "    <tr>\n",
       "      <td>1</td>\n",
       "      <td>Ciudad Autónoma de Buenos Aires</td>\n",
       "      <td>377</td>\n",
       "      <td>19007.0</td>\n",
       "    </tr>\n",
       "    <tr>\n",
       "      <td>2</td>\n",
       "      <td>Chaco</td>\n",
       "      <td>83</td>\n",
       "      <td>1582.0</td>\n",
       "    </tr>\n",
       "    <tr>\n",
       "      <td>3</td>\n",
       "      <td>Chubut</td>\n",
       "      <td>1</td>\n",
       "      <td>94.0</td>\n",
       "    </tr>\n",
       "    <tr>\n",
       "      <td>4</td>\n",
       "      <td>Corrientes</td>\n",
       "      <td>0</td>\n",
       "      <td>115.0</td>\n",
       "    </tr>\n",
       "    <tr>\n",
       "      <td>5</td>\n",
       "      <td>Córdoba</td>\n",
       "      <td>34</td>\n",
       "      <td>565.0</td>\n",
       "    </tr>\n",
       "    <tr>\n",
       "      <td>6</td>\n",
       "      <td>Entre Ríos</td>\n",
       "      <td>0</td>\n",
       "      <td>144.0</td>\n",
       "    </tr>\n",
       "    <tr>\n",
       "      <td>8</td>\n",
       "      <td>Indeterminado</td>\n",
       "      <td>0</td>\n",
       "      <td>0.0</td>\n",
       "    </tr>\n",
       "    <tr>\n",
       "      <td>9</td>\n",
       "      <td>Jujuy</td>\n",
       "      <td>1</td>\n",
       "      <td>13.0</td>\n",
       "    </tr>\n",
       "    <tr>\n",
       "      <td>10</td>\n",
       "      <td>La Pampa</td>\n",
       "      <td>0</td>\n",
       "      <td>6.0</td>\n",
       "    </tr>\n",
       "    <tr>\n",
       "      <td>11</td>\n",
       "      <td>La Rioja</td>\n",
       "      <td>8</td>\n",
       "      <td>64.0</td>\n",
       "    </tr>\n",
       "    <tr>\n",
       "      <td>12</td>\n",
       "      <td>Mendoza</td>\n",
       "      <td>10</td>\n",
       "      <td>132.0</td>\n",
       "    </tr>\n",
       "    <tr>\n",
       "      <td>13</td>\n",
       "      <td>Misiones</td>\n",
       "      <td>2</td>\n",
       "      <td>38.0</td>\n",
       "    </tr>\n",
       "    <tr>\n",
       "      <td>14</td>\n",
       "      <td>Neuquén</td>\n",
       "      <td>8</td>\n",
       "      <td>312.0</td>\n",
       "    </tr>\n",
       "    <tr>\n",
       "      <td>15</td>\n",
       "      <td>Río Negro</td>\n",
       "      <td>33</td>\n",
       "      <td>691.0</td>\n",
       "    </tr>\n",
       "    <tr>\n",
       "      <td>16</td>\n",
       "      <td>Salta</td>\n",
       "      <td>0</td>\n",
       "      <td>21.0</td>\n",
       "    </tr>\n",
       "    <tr>\n",
       "      <td>17</td>\n",
       "      <td>San Juan</td>\n",
       "      <td>0</td>\n",
       "      <td>7.0</td>\n",
       "    </tr>\n",
       "    <tr>\n",
       "      <td>18</td>\n",
       "      <td>San Luis</td>\n",
       "      <td>0</td>\n",
       "      <td>11.0</td>\n",
       "    </tr>\n",
       "    <tr>\n",
       "      <td>19</td>\n",
       "      <td>Santa Cruz</td>\n",
       "      <td>0</td>\n",
       "      <td>51.0</td>\n",
       "    </tr>\n",
       "    <tr>\n",
       "      <td>20</td>\n",
       "      <td>Santa Fe</td>\n",
       "      <td>4</td>\n",
       "      <td>335.0</td>\n",
       "    </tr>\n",
       "    <tr>\n",
       "      <td>21</td>\n",
       "      <td>Santiago del Estero</td>\n",
       "      <td>0</td>\n",
       "      <td>22.0</td>\n",
       "    </tr>\n",
       "    <tr>\n",
       "      <td>22</td>\n",
       "      <td>Tierra del Fuego</td>\n",
       "      <td>0</td>\n",
       "      <td>149.0</td>\n",
       "    </tr>\n",
       "    <tr>\n",
       "      <td>23</td>\n",
       "      <td>Tucumán</td>\n",
       "      <td>5</td>\n",
       "      <td>58.0</td>\n",
       "    </tr>\n",
       "  </tbody>\n",
       "</table>\n",
       "</div>"
      ],
      "text/plain": [
       "                          provincia  fallecidos  confirmados\n",
       "0         Provincia de Buenos Aires         445      19329.0\n",
       "1   Ciudad Autónoma de Buenos Aires         377      19007.0\n",
       "2                             Chaco          83       1582.0\n",
       "3                            Chubut           1         94.0\n",
       "4                        Corrientes           0        115.0\n",
       "5                           Córdoba          34        565.0\n",
       "6                        Entre Ríos           0        144.0\n",
       "8                     Indeterminado           0          0.0\n",
       "9                             Jujuy           1         13.0\n",
       "10                         La Pampa           0          6.0\n",
       "11                         La Rioja           8         64.0\n",
       "12                          Mendoza          10        132.0\n",
       "13                         Misiones           2         38.0\n",
       "14                          Neuquén           8        312.0\n",
       "15                        Río Negro          33        691.0\n",
       "16                            Salta           0         21.0\n",
       "17                         San Juan           0          7.0\n",
       "18                         San Luis           0         11.0\n",
       "19                       Santa Cruz           0         51.0\n",
       "20                         Santa Fe           4        335.0\n",
       "21              Santiago del Estero           0         22.0\n",
       "22                 Tierra del Fuego           0        149.0\n",
       "23                          Tucumán           5         58.0"
      ]
     },
     "execution_count": 35,
     "metadata": {},
     "output_type": "execute_result"
    }
   ],
   "source": [
    "df_covid"
   ]
  },
  {
   "cell_type": "markdown",
   "metadata": {},
   "source": [
    "# Merge df_covid y df_censo"
   ]
  },
  {
   "cell_type": "markdown",
   "metadata": {},
   "source": [
    "* Creo el dataframe data_resume para posteriormente utilizarlo en el cálculo de las tasas de contagio y mortalidad. \n",
    "* Surge de la union de df_censo y df_covid, usando como índice la columna provincia, ya que en los dos dataframe se llaman igual y compartes practicamente todos los datos, a excepción de Formosa, Catamarca y Total del pais, que estan en df_censo y no en df_covid. \n",
    "* Reemplazo los valores nulos por 0 y muestro el dataframe para corroborar la carga y verificar los datos.\n",
    "* Por último elimino la fila Total pais, ya que no voy a utilizarla."
   ]
  },
  {
   "cell_type": "code",
   "execution_count": 36,
   "metadata": {},
   "outputs": [],
   "source": [
    "data_resume = pd.merge(left = df_censo , right = df_covid, how =\"left\", left_on= 'provincia' , right_on = 'provincia')"
   ]
  },
  {
   "cell_type": "code",
   "execution_count": 37,
   "metadata": {},
   "outputs": [
    {
     "data": {
      "text/html": [
       "<div>\n",
       "<style scoped>\n",
       "    .dataframe tbody tr th:only-of-type {\n",
       "        vertical-align: middle;\n",
       "    }\n",
       "\n",
       "    .dataframe tbody tr th {\n",
       "        vertical-align: top;\n",
       "    }\n",
       "\n",
       "    .dataframe thead th {\n",
       "        text-align: right;\n",
       "    }\n",
       "</style>\n",
       "<table border=\"1\" class=\"dataframe\">\n",
       "  <thead>\n",
       "    <tr style=\"text-align: right;\">\n",
       "      <th></th>\n",
       "      <th>provincia</th>\n",
       "      <th>poblaciónCenso 2010</th>\n",
       "      <th>fallecidos</th>\n",
       "      <th>confirmados</th>\n",
       "    </tr>\n",
       "  </thead>\n",
       "  <tbody>\n",
       "    <tr>\n",
       "      <td>0</td>\n",
       "      <td>Provincia de Buenos Aires</td>\n",
       "      <td>15625083</td>\n",
       "      <td>445.0</td>\n",
       "      <td>19329.0</td>\n",
       "    </tr>\n",
       "    <tr>\n",
       "      <td>1</td>\n",
       "      <td>Córdoba</td>\n",
       "      <td>3308876</td>\n",
       "      <td>34.0</td>\n",
       "      <td>565.0</td>\n",
       "    </tr>\n",
       "    <tr>\n",
       "      <td>2</td>\n",
       "      <td>Santa Fe</td>\n",
       "      <td>3194537</td>\n",
       "      <td>4.0</td>\n",
       "      <td>335.0</td>\n",
       "    </tr>\n",
       "    <tr>\n",
       "      <td>3</td>\n",
       "      <td>Ciudad Autónoma de Buenos Aires</td>\n",
       "      <td>2890151</td>\n",
       "      <td>377.0</td>\n",
       "      <td>19007.0</td>\n",
       "    </tr>\n",
       "    <tr>\n",
       "      <td>4</td>\n",
       "      <td>Mendoza</td>\n",
       "      <td>1738929</td>\n",
       "      <td>10.0</td>\n",
       "      <td>132.0</td>\n",
       "    </tr>\n",
       "    <tr>\n",
       "      <td>5</td>\n",
       "      <td>Tucumán</td>\n",
       "      <td>1448188</td>\n",
       "      <td>5.0</td>\n",
       "      <td>58.0</td>\n",
       "    </tr>\n",
       "    <tr>\n",
       "      <td>6</td>\n",
       "      <td>Entre Ríos</td>\n",
       "      <td>1235994</td>\n",
       "      <td>0.0</td>\n",
       "      <td>144.0</td>\n",
       "    </tr>\n",
       "    <tr>\n",
       "      <td>7</td>\n",
       "      <td>Salta</td>\n",
       "      <td>1214441</td>\n",
       "      <td>0.0</td>\n",
       "      <td>21.0</td>\n",
       "    </tr>\n",
       "    <tr>\n",
       "      <td>8</td>\n",
       "      <td>Misiones</td>\n",
       "      <td>1101593</td>\n",
       "      <td>2.0</td>\n",
       "      <td>38.0</td>\n",
       "    </tr>\n",
       "    <tr>\n",
       "      <td>9</td>\n",
       "      <td>Chaco</td>\n",
       "      <td>1055259</td>\n",
       "      <td>83.0</td>\n",
       "      <td>1582.0</td>\n",
       "    </tr>\n",
       "    <tr>\n",
       "      <td>10</td>\n",
       "      <td>Corrientes</td>\n",
       "      <td>992595</td>\n",
       "      <td>0.0</td>\n",
       "      <td>115.0</td>\n",
       "    </tr>\n",
       "    <tr>\n",
       "      <td>11</td>\n",
       "      <td>Santiago del Estero</td>\n",
       "      <td>874006</td>\n",
       "      <td>0.0</td>\n",
       "      <td>22.0</td>\n",
       "    </tr>\n",
       "    <tr>\n",
       "      <td>12</td>\n",
       "      <td>San Juan</td>\n",
       "      <td>681055</td>\n",
       "      <td>0.0</td>\n",
       "      <td>7.0</td>\n",
       "    </tr>\n",
       "    <tr>\n",
       "      <td>13</td>\n",
       "      <td>Jujuy</td>\n",
       "      <td>673307</td>\n",
       "      <td>1.0</td>\n",
       "      <td>13.0</td>\n",
       "    </tr>\n",
       "    <tr>\n",
       "      <td>14</td>\n",
       "      <td>Río Negro</td>\n",
       "      <td>638645</td>\n",
       "      <td>33.0</td>\n",
       "      <td>691.0</td>\n",
       "    </tr>\n",
       "    <tr>\n",
       "      <td>15</td>\n",
       "      <td>Neuquén</td>\n",
       "      <td>551266</td>\n",
       "      <td>8.0</td>\n",
       "      <td>312.0</td>\n",
       "    </tr>\n",
       "    <tr>\n",
       "      <td>16</td>\n",
       "      <td>Formosa</td>\n",
       "      <td>530162</td>\n",
       "      <td>0.0</td>\n",
       "      <td>0.0</td>\n",
       "    </tr>\n",
       "    <tr>\n",
       "      <td>17</td>\n",
       "      <td>Chubut</td>\n",
       "      <td>509108</td>\n",
       "      <td>1.0</td>\n",
       "      <td>94.0</td>\n",
       "    </tr>\n",
       "    <tr>\n",
       "      <td>18</td>\n",
       "      <td>San Luis</td>\n",
       "      <td>432310</td>\n",
       "      <td>0.0</td>\n",
       "      <td>11.0</td>\n",
       "    </tr>\n",
       "    <tr>\n",
       "      <td>19</td>\n",
       "      <td>Catamarca</td>\n",
       "      <td>367828</td>\n",
       "      <td>0.0</td>\n",
       "      <td>0.0</td>\n",
       "    </tr>\n",
       "    <tr>\n",
       "      <td>20</td>\n",
       "      <td>La Rioja</td>\n",
       "      <td>333642</td>\n",
       "      <td>8.0</td>\n",
       "      <td>64.0</td>\n",
       "    </tr>\n",
       "    <tr>\n",
       "      <td>21</td>\n",
       "      <td>La Pampa</td>\n",
       "      <td>318951</td>\n",
       "      <td>0.0</td>\n",
       "      <td>6.0</td>\n",
       "    </tr>\n",
       "    <tr>\n",
       "      <td>22</td>\n",
       "      <td>Santa Cruz</td>\n",
       "      <td>273964</td>\n",
       "      <td>0.0</td>\n",
       "      <td>51.0</td>\n",
       "    </tr>\n",
       "    <tr>\n",
       "      <td>23</td>\n",
       "      <td>Tierra del Fuego</td>\n",
       "      <td>127205</td>\n",
       "      <td>0.0</td>\n",
       "      <td>149.0</td>\n",
       "    </tr>\n",
       "    <tr>\n",
       "      <td>24</td>\n",
       "      <td>Total del país</td>\n",
       "      <td>40117096</td>\n",
       "      <td>0.0</td>\n",
       "      <td>0.0</td>\n",
       "    </tr>\n",
       "  </tbody>\n",
       "</table>\n",
       "</div>"
      ],
      "text/plain": [
       "                          provincia  poblaciónCenso 2010  fallecidos  \\\n",
       "0         Provincia de Buenos Aires             15625083       445.0   \n",
       "1                           Córdoba              3308876        34.0   \n",
       "2                          Santa Fe              3194537         4.0   \n",
       "3   Ciudad Autónoma de Buenos Aires              2890151       377.0   \n",
       "4                           Mendoza              1738929        10.0   \n",
       "5                           Tucumán              1448188         5.0   \n",
       "6                        Entre Ríos              1235994         0.0   \n",
       "7                             Salta              1214441         0.0   \n",
       "8                          Misiones              1101593         2.0   \n",
       "9                             Chaco              1055259        83.0   \n",
       "10                       Corrientes               992595         0.0   \n",
       "11              Santiago del Estero               874006         0.0   \n",
       "12                         San Juan               681055         0.0   \n",
       "13                            Jujuy               673307         1.0   \n",
       "14                        Río Negro               638645        33.0   \n",
       "15                          Neuquén               551266         8.0   \n",
       "16                          Formosa               530162         0.0   \n",
       "17                           Chubut               509108         1.0   \n",
       "18                         San Luis               432310         0.0   \n",
       "19                        Catamarca               367828         0.0   \n",
       "20                         La Rioja               333642         8.0   \n",
       "21                         La Pampa               318951         0.0   \n",
       "22                       Santa Cruz               273964         0.0   \n",
       "23                 Tierra del Fuego               127205         0.0   \n",
       "24                   Total del país             40117096         0.0   \n",
       "\n",
       "    confirmados  \n",
       "0       19329.0  \n",
       "1         565.0  \n",
       "2         335.0  \n",
       "3       19007.0  \n",
       "4         132.0  \n",
       "5          58.0  \n",
       "6         144.0  \n",
       "7          21.0  \n",
       "8          38.0  \n",
       "9        1582.0  \n",
       "10        115.0  \n",
       "11         22.0  \n",
       "12          7.0  \n",
       "13         13.0  \n",
       "14        691.0  \n",
       "15        312.0  \n",
       "16          0.0  \n",
       "17         94.0  \n",
       "18         11.0  \n",
       "19          0.0  \n",
       "20         64.0  \n",
       "21          6.0  \n",
       "22         51.0  \n",
       "23        149.0  \n",
       "24          0.0  "
      ]
     },
     "execution_count": 37,
     "metadata": {},
     "output_type": "execute_result"
    }
   ],
   "source": [
    "data_resume = data_resume.fillna(0)\n",
    "data_resume"
   ]
  },
  {
   "cell_type": "code",
   "execution_count": 38,
   "metadata": {},
   "outputs": [],
   "source": [
    "data_resume=data_resume.drop([24],axis=0)"
   ]
  },
  {
   "cell_type": "code",
   "execution_count": 39,
   "metadata": {},
   "outputs": [],
   "source": [
    "data_resume['confirmados']=data_resume['confirmados'].astype(int)\n",
    "data_resume['fallecidos']=data_resume['fallecidos'].astype(int)"
   ]
  },
  {
   "cell_type": "markdown",
   "metadata": {},
   "source": [
    "# Tasa de contagiados y fallecidos cada 100K habitantes"
   ]
  },
  {
   "cell_type": "markdown",
   "metadata": {},
   "source": [
    "* Voy a agregar dos columnas a data_resume, para mostrar, en la primera, la tasa de contagios cada cien mil habitantes y en la segunda, la tasa de fallecidos cada cien mil habitantes por cada provincia. Luego muestro el dataset para corroborar que las columnas se hayan agregado correctamente."
   ]
  },
  {
   "cell_type": "code",
   "execution_count": 40,
   "metadata": {},
   "outputs": [],
   "source": [
    "data_resume[\"contagios_cada_100.000\"]=(data_resume['confirmados']/data_resume['poblaciónCenso 2010'])*100000"
   ]
  },
  {
   "cell_type": "code",
   "execution_count": 41,
   "metadata": {},
   "outputs": [],
   "source": [
    "data_resume[\"mortalidad_cada_100.000\"]=(data_resume['fallecidos']/data_resume['poblaciónCenso 2010'])*100000"
   ]
  },
  {
   "cell_type": "code",
   "execution_count": 42,
   "metadata": {},
   "outputs": [
    {
     "data": {
      "text/html": [
       "<div>\n",
       "<style scoped>\n",
       "    .dataframe tbody tr th:only-of-type {\n",
       "        vertical-align: middle;\n",
       "    }\n",
       "\n",
       "    .dataframe tbody tr th {\n",
       "        vertical-align: top;\n",
       "    }\n",
       "\n",
       "    .dataframe thead th {\n",
       "        text-align: right;\n",
       "    }\n",
       "</style>\n",
       "<table border=\"1\" class=\"dataframe\">\n",
       "  <thead>\n",
       "    <tr style=\"text-align: right;\">\n",
       "      <th></th>\n",
       "      <th>provincia</th>\n",
       "      <th>poblaciónCenso 2010</th>\n",
       "      <th>fallecidos</th>\n",
       "      <th>confirmados</th>\n",
       "      <th>contagios_cada_100.000</th>\n",
       "      <th>mortalidad_cada_100.000</th>\n",
       "    </tr>\n",
       "  </thead>\n",
       "  <tbody>\n",
       "    <tr>\n",
       "      <td>0</td>\n",
       "      <td>Provincia de Buenos Aires</td>\n",
       "      <td>15625083</td>\n",
       "      <td>445</td>\n",
       "      <td>19329</td>\n",
       "      <td>123.704943</td>\n",
       "      <td>2.847985</td>\n",
       "    </tr>\n",
       "    <tr>\n",
       "      <td>1</td>\n",
       "      <td>Córdoba</td>\n",
       "      <td>3308876</td>\n",
       "      <td>34</td>\n",
       "      <td>565</td>\n",
       "      <td>17.075285</td>\n",
       "      <td>1.027539</td>\n",
       "    </tr>\n",
       "    <tr>\n",
       "      <td>2</td>\n",
       "      <td>Santa Fe</td>\n",
       "      <td>3194537</td>\n",
       "      <td>4</td>\n",
       "      <td>335</td>\n",
       "      <td>10.486653</td>\n",
       "      <td>0.125214</td>\n",
       "    </tr>\n",
       "    <tr>\n",
       "      <td>3</td>\n",
       "      <td>Ciudad Autónoma de Buenos Aires</td>\n",
       "      <td>2890151</td>\n",
       "      <td>377</td>\n",
       "      <td>19007</td>\n",
       "      <td>657.647299</td>\n",
       "      <td>13.044301</td>\n",
       "    </tr>\n",
       "    <tr>\n",
       "      <td>4</td>\n",
       "      <td>Mendoza</td>\n",
       "      <td>1738929</td>\n",
       "      <td>10</td>\n",
       "      <td>132</td>\n",
       "      <td>7.590879</td>\n",
       "      <td>0.575067</td>\n",
       "    </tr>\n",
       "    <tr>\n",
       "      <td>5</td>\n",
       "      <td>Tucumán</td>\n",
       "      <td>1448188</td>\n",
       "      <td>5</td>\n",
       "      <td>58</td>\n",
       "      <td>4.005005</td>\n",
       "      <td>0.345259</td>\n",
       "    </tr>\n",
       "    <tr>\n",
       "      <td>6</td>\n",
       "      <td>Entre Ríos</td>\n",
       "      <td>1235994</td>\n",
       "      <td>0</td>\n",
       "      <td>144</td>\n",
       "      <td>11.650542</td>\n",
       "      <td>0.000000</td>\n",
       "    </tr>\n",
       "    <tr>\n",
       "      <td>7</td>\n",
       "      <td>Salta</td>\n",
       "      <td>1214441</td>\n",
       "      <td>0</td>\n",
       "      <td>21</td>\n",
       "      <td>1.729191</td>\n",
       "      <td>0.000000</td>\n",
       "    </tr>\n",
       "    <tr>\n",
       "      <td>8</td>\n",
       "      <td>Misiones</td>\n",
       "      <td>1101593</td>\n",
       "      <td>2</td>\n",
       "      <td>38</td>\n",
       "      <td>3.449550</td>\n",
       "      <td>0.181555</td>\n",
       "    </tr>\n",
       "    <tr>\n",
       "      <td>9</td>\n",
       "      <td>Chaco</td>\n",
       "      <td>1055259</td>\n",
       "      <td>83</td>\n",
       "      <td>1582</td>\n",
       "      <td>149.915803</td>\n",
       "      <td>7.865368</td>\n",
       "    </tr>\n",
       "    <tr>\n",
       "      <td>10</td>\n",
       "      <td>Corrientes</td>\n",
       "      <td>992595</td>\n",
       "      <td>0</td>\n",
       "      <td>115</td>\n",
       "      <td>11.585793</td>\n",
       "      <td>0.000000</td>\n",
       "    </tr>\n",
       "    <tr>\n",
       "      <td>11</td>\n",
       "      <td>Santiago del Estero</td>\n",
       "      <td>874006</td>\n",
       "      <td>0</td>\n",
       "      <td>22</td>\n",
       "      <td>2.517145</td>\n",
       "      <td>0.000000</td>\n",
       "    </tr>\n",
       "    <tr>\n",
       "      <td>12</td>\n",
       "      <td>San Juan</td>\n",
       "      <td>681055</td>\n",
       "      <td>0</td>\n",
       "      <td>7</td>\n",
       "      <td>1.027817</td>\n",
       "      <td>0.000000</td>\n",
       "    </tr>\n",
       "    <tr>\n",
       "      <td>13</td>\n",
       "      <td>Jujuy</td>\n",
       "      <td>673307</td>\n",
       "      <td>1</td>\n",
       "      <td>13</td>\n",
       "      <td>1.930769</td>\n",
       "      <td>0.148521</td>\n",
       "    </tr>\n",
       "    <tr>\n",
       "      <td>14</td>\n",
       "      <td>Río Negro</td>\n",
       "      <td>638645</td>\n",
       "      <td>33</td>\n",
       "      <td>691</td>\n",
       "      <td>108.197825</td>\n",
       "      <td>5.167190</td>\n",
       "    </tr>\n",
       "    <tr>\n",
       "      <td>15</td>\n",
       "      <td>Neuquén</td>\n",
       "      <td>551266</td>\n",
       "      <td>8</td>\n",
       "      <td>312</td>\n",
       "      <td>56.596997</td>\n",
       "      <td>1.451205</td>\n",
       "    </tr>\n",
       "    <tr>\n",
       "      <td>16</td>\n",
       "      <td>Formosa</td>\n",
       "      <td>530162</td>\n",
       "      <td>0</td>\n",
       "      <td>0</td>\n",
       "      <td>0.000000</td>\n",
       "      <td>0.000000</td>\n",
       "    </tr>\n",
       "    <tr>\n",
       "      <td>17</td>\n",
       "      <td>Chubut</td>\n",
       "      <td>509108</td>\n",
       "      <td>1</td>\n",
       "      <td>94</td>\n",
       "      <td>18.463666</td>\n",
       "      <td>0.196422</td>\n",
       "    </tr>\n",
       "    <tr>\n",
       "      <td>18</td>\n",
       "      <td>San Luis</td>\n",
       "      <td>432310</td>\n",
       "      <td>0</td>\n",
       "      <td>11</td>\n",
       "      <td>2.544470</td>\n",
       "      <td>0.000000</td>\n",
       "    </tr>\n",
       "    <tr>\n",
       "      <td>19</td>\n",
       "      <td>Catamarca</td>\n",
       "      <td>367828</td>\n",
       "      <td>0</td>\n",
       "      <td>0</td>\n",
       "      <td>0.000000</td>\n",
       "      <td>0.000000</td>\n",
       "    </tr>\n",
       "    <tr>\n",
       "      <td>20</td>\n",
       "      <td>La Rioja</td>\n",
       "      <td>333642</td>\n",
       "      <td>8</td>\n",
       "      <td>64</td>\n",
       "      <td>19.182237</td>\n",
       "      <td>2.397780</td>\n",
       "    </tr>\n",
       "    <tr>\n",
       "      <td>21</td>\n",
       "      <td>La Pampa</td>\n",
       "      <td>318951</td>\n",
       "      <td>0</td>\n",
       "      <td>6</td>\n",
       "      <td>1.881167</td>\n",
       "      <td>0.000000</td>\n",
       "    </tr>\n",
       "    <tr>\n",
       "      <td>22</td>\n",
       "      <td>Santa Cruz</td>\n",
       "      <td>273964</td>\n",
       "      <td>0</td>\n",
       "      <td>51</td>\n",
       "      <td>18.615585</td>\n",
       "      <td>0.000000</td>\n",
       "    </tr>\n",
       "    <tr>\n",
       "      <td>23</td>\n",
       "      <td>Tierra del Fuego</td>\n",
       "      <td>127205</td>\n",
       "      <td>0</td>\n",
       "      <td>149</td>\n",
       "      <td>117.133760</td>\n",
       "      <td>0.000000</td>\n",
       "    </tr>\n",
       "  </tbody>\n",
       "</table>\n",
       "</div>"
      ],
      "text/plain": [
       "                          provincia  poblaciónCenso 2010  fallecidos  \\\n",
       "0         Provincia de Buenos Aires             15625083         445   \n",
       "1                           Córdoba              3308876          34   \n",
       "2                          Santa Fe              3194537           4   \n",
       "3   Ciudad Autónoma de Buenos Aires              2890151         377   \n",
       "4                           Mendoza              1738929          10   \n",
       "5                           Tucumán              1448188           5   \n",
       "6                        Entre Ríos              1235994           0   \n",
       "7                             Salta              1214441           0   \n",
       "8                          Misiones              1101593           2   \n",
       "9                             Chaco              1055259          83   \n",
       "10                       Corrientes               992595           0   \n",
       "11              Santiago del Estero               874006           0   \n",
       "12                         San Juan               681055           0   \n",
       "13                            Jujuy               673307           1   \n",
       "14                        Río Negro               638645          33   \n",
       "15                          Neuquén               551266           8   \n",
       "16                          Formosa               530162           0   \n",
       "17                           Chubut               509108           1   \n",
       "18                         San Luis               432310           0   \n",
       "19                        Catamarca               367828           0   \n",
       "20                         La Rioja               333642           8   \n",
       "21                         La Pampa               318951           0   \n",
       "22                       Santa Cruz               273964           0   \n",
       "23                 Tierra del Fuego               127205           0   \n",
       "\n",
       "    confirmados  contagios_cada_100.000  mortalidad_cada_100.000  \n",
       "0         19329              123.704943                 2.847985  \n",
       "1           565               17.075285                 1.027539  \n",
       "2           335               10.486653                 0.125214  \n",
       "3         19007              657.647299                13.044301  \n",
       "4           132                7.590879                 0.575067  \n",
       "5            58                4.005005                 0.345259  \n",
       "6           144               11.650542                 0.000000  \n",
       "7            21                1.729191                 0.000000  \n",
       "8            38                3.449550                 0.181555  \n",
       "9          1582              149.915803                 7.865368  \n",
       "10          115               11.585793                 0.000000  \n",
       "11           22                2.517145                 0.000000  \n",
       "12            7                1.027817                 0.000000  \n",
       "13           13                1.930769                 0.148521  \n",
       "14          691              108.197825                 5.167190  \n",
       "15          312               56.596997                 1.451205  \n",
       "16            0                0.000000                 0.000000  \n",
       "17           94               18.463666                 0.196422  \n",
       "18           11                2.544470                 0.000000  \n",
       "19            0                0.000000                 0.000000  \n",
       "20           64               19.182237                 2.397780  \n",
       "21            6                1.881167                 0.000000  \n",
       "22           51               18.615585                 0.000000  \n",
       "23          149              117.133760                 0.000000  "
      ]
     },
     "execution_count": 42,
     "metadata": {},
     "output_type": "execute_result"
    }
   ],
   "source": [
    "data_resume"
   ]
  },
  {
   "cell_type": "markdown",
   "metadata": {},
   "source": [
    "# Representación gráficas de tasas de contagios y mortalidad por provincias."
   ]
  },
  {
   "cell_type": "markdown",
   "metadata": {},
   "source": [
    "* En la siguente línea grafíco la tasa de mortalidad y la tasa de contagiados cada cien mil habitantes por cada provincia, ambas gráficas se encuentran en la misma línea.\n",
    "* En ambas gráficas se representa en el eje X las provincias, ordenadas en forma descendente por tasa de mortalidad y tasa de contagios respectivamente, y en el eje Y las cantidades.\n",
    "* Utilizo la libreria matplotlib para la confección de las gráficas.\n",
    "* El primer gráfico representa la tasa de mortalidad cada cien mil habitantes en cada provincia. Claramente la tasa de mortalidad más alta la tiene la Ciudad Autónoma de Buenos Aires. Vemos como la provincia de Buenos Aires pasa a estar en cuarto lugar a pesar de ser la provincia que más fallecidos tiene, antes aparecen Chaco y Rio Negro, las cuales tienen menor cantidad de fallecidos pero en relacion a la cantidad de habitantes la tasa de mortalidad es más alta que en la provincia de Buenos Aires.\n",
    "* El segundo gráfico representa la tasa de contagios cada cien mil habitantes en cada provincia. Se observa en primer lugar a la Ciudad Autónoma de Buenos Aires, despúes se encuentra la provincia de Chaco, Tierra del Fuego(la cual a pesar de tener la tercer tasa de contagio más alta, no tiene ningún fallecido), Buenos Aires y en quinto lugar la provincia de Rio Negro. \n"
   ]
  },
  {
   "cell_type": "code",
   "execution_count": 43,
   "metadata": {},
   "outputs": [
    {
     "data": {
      "text/plain": [
       "Text(0.5, 1.0, 'Contagios por provincia cada 100K habitantes')"
      ]
     },
     "execution_count": 43,
     "metadata": {},
     "output_type": "execute_result"
    },
    {
     "data": {
      "image/png": "[encoded data removed]",
      "text/plain": [
       "<Figure size 1080x360 with 2 Axes>"
      ]
     },
     "metadata": {},
     "output_type": "display_data"
    }
   ],
   "source": [
    "plt.subplot(1,2,1)\n",
    "data_resume.groupby(\"provincia\")['mortalidad_cada_100.000'].sum().sort_values(ascending=False).plot(kind=\"bar\",label=\"Mortalidad cada 100K habitantes\",color=\"r\")\n",
    "plt.legend()\n",
    "plt.xticks(rotation=90)\n",
    "plt.title('Mortalidad por provincia cada 100K habitantes')\n",
    "plt.subplot(1,2,2)\n",
    "data_resume.groupby('provincia')['contagios_cada_100.000'].sum().sort_values(ascending=False).plot(kind='bar',label='Contagios cada 100K habitantes',color='b')\n",
    "plt.legend()\n",
    "plt.xticks(rotation=90)\n",
    "plt.title('Contagios por provincia cada 100K habitantes')"
   ]
  },
  {
   "cell_type": "code",
   "execution_count": 44,
   "metadata": {},
   "outputs": [],
   "source": [
    "df_covid.to_excel('COVID2.xlsx', sheet_name='COVID2')\n",
    "df_censo.to_excel('CENSO.xlsx', sheet_name='CENSO')"
   ]
  }
 ],
 "metadata": {
  "kernelspec": {
   "display_name": "Python 3",
   "language": "python",
   "name": "python3"
  },
  "language_info": {
   "codemirror_mode": {
    "name": "ipython",
    "version": 3
   },
   "file_extension": ".py",
   "mimetype": "text/x-python",
   "name": "python",
   "nbconvert_exporter": "python",
   "pygments_lexer": "ipython3",
   "version": "3.7.4"
  }
 },
 "nbformat": 4,
 "nbformat_minor": 2
}
